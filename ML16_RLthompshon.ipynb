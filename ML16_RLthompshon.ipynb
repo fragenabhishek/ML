{
  "nbformat": 4,
  "nbformat_minor": 0,
  "metadata": {
    "colab": {
      "name": "ML16_RLthompshon.ipynb",
      "provenance": [],
      "collapsed_sections": [],
      "authorship_tag": "ABX9TyM8NSewZDpRrfiPMQaj+dIg",
      "include_colab_link": true
    },
    "kernelspec": {
      "name": "python3",
      "display_name": "Python 3"
    }
  },
  "cells": [
    {
      "cell_type": "markdown",
      "metadata": {
        "id": "view-in-github",
        "colab_type": "text"
      },
      "source": [
        "<a href=\"https://colab.research.google.com/github/fragenabhishek/ML/blob/main/ML16_RLthompshon.ipynb\" target=\"_parent\"><img src=\"https://colab.research.google.com/assets/colab-badge.svg\" alt=\"Open In Colab\"/></a>"
      ]
    },
    {
      "cell_type": "code",
      "metadata": {
        "id": "YtEJPJLXoBrK"
      },
      "source": [
        "import numpy as np\n",
        "import pandas as pd\n",
        "import matplotlib.pyplot as plt\n"
      ],
      "execution_count": null,
      "outputs": []
    },
    {
      "cell_type": "code",
      "metadata": {
        "id": "KrNyOHHroXbw"
      },
      "source": [
        "dataset=pd.read_csv(\"Ads_CTR_Optimisation.csv\")"
      ],
      "execution_count": null,
      "outputs": []
    },
    {
      "cell_type": "code",
      "metadata": {
        "id": "A3x0TlsDoZok"
      },
      "source": [
        "import random\n",
        "N=10000\n",
        "d=10\n",
        "ads_selected=[]\n",
        "no_of_rewards_1=[0]*d\n",
        "no_of_rewards_0=[0]*d\n",
        "total_reward=0\n",
        "for n in range(0,N):\n",
        "    ad=0\n",
        "    max_random=0\n",
        "    for i in range(0,d):\n",
        "      random_beta=random.betavariate(no_of_rewards_1[i]+1,no_of_rewards_0[i]+1)\n",
        "      if random_beta>max_random:\n",
        "        max_random=random_beta\n",
        "        ad=i\n",
        "    ads_selected.append(ad)   \n",
        "    reward=dataset.values[n,ad]\n",
        "    if reward==1:\n",
        "      no_of_rewards_1[ad]=no_of_rewards_1[ad]+1\n",
        "    else:\n",
        "      no_of_rewards_0[ad]=no_of_rewards_0[ad]+1  \n",
        " \n",
        "    total_reward=total_reward+reward\n",
        "\n"
      ],
      "execution_count": null,
      "outputs": []
    },
    {
      "cell_type": "code",
      "metadata": {
        "id": "MOJrZyiTsEmI",
        "colab": {
          "base_uri": "https://localhost:8080/",
          "height": 35
        },
        "outputId": "de5cbc73-3e85-4ace-f5d4-27ed027f36eb"
      },
      "source": [
        "total_reward"
      ],
      "execution_count": null,
      "outputs": [
        {
          "output_type": "execute_result",
          "data": {
            "text/plain": [
              "2611"
            ]
          },
          "metadata": {
            "tags": []
          },
          "execution_count": 12
        }
      ]
    },
    {
      "cell_type": "code",
      "metadata": {
        "id": "MmZB4WxJsSDk",
        "colab": {
          "base_uri": "https://localhost:8080/",
          "height": 339
        },
        "outputId": "e50760d0-2a1c-4ca2-c39f-b9aef9dc4e29"
      },
      "source": [
        "plt.hist(ads_selected)"
      ],
      "execution_count": null,
      "outputs": [
        {
          "output_type": "execute_result",
          "data": {
            "text/plain": [
              "(array([ 151.,   48.,   55.,  187., 9344.,   33.,   61.,   51.,   46.,\n",
              "          24.]),\n",
              " array([0. , 0.9, 1.8, 2.7, 3.6, 4.5, 5.4, 6.3, 7.2, 8.1, 9. ]),\n",
              " <a list of 10 Patch objects>)"
            ]
          },
          "metadata": {
            "tags": []
          },
          "execution_count": 6
        },
        {
          "output_type": "display_data",
          "data": {
            "image/png": "[encoded data removed]",
            "text/plain": [
              "<Figure size 432x288 with 1 Axes>"
            ]
          },
          "metadata": {
            "tags": []
          }
        }
      ]
    },
    {
      "cell_type": "code",
      "metadata": {
        "id": "U-gr6-LdsWGj"
      },
      "source": [
        ""
      ],
      "execution_count": null,
      "outputs": []
    }
  ]
}