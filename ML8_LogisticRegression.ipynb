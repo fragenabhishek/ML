{
  "nbformat": 4,
  "nbformat_minor": 0,
  "metadata": {
    "colab": {
      "name": "ML8_LogisticRegression.ipynb",
      "provenance": [],
      "collapsed_sections": [],
      "authorship_tag": "ABX9TyPUZt0n6Agkja6VricIG8Wy",
      "include_colab_link": true
    },
    "kernelspec": {
      "name": "python3",
      "display_name": "Python 3"
    }
  },
  "cells": [
    {
      "cell_type": "markdown",
      "metadata": {
        "id": "view-in-github",
        "colab_type": "text"
      },
      "source": [
        "<a href=\"https://colab.research.google.com/github/fragenabhishek/ML/blob/main/ML8_LogisticRegression.ipynb\" target=\"_parent\"><img src=\"https://colab.research.google.com/assets/colab-badge.svg\" alt=\"Open In Colab\"/></a>"
      ]
    },
    {
      "cell_type": "code",
      "metadata": {
        "id": "_1nXRFo4_4i8"
      },
      "source": [
        "import numpy as np\n",
        "import matplotlib.pyplot as plt\n",
        "import pandas as pd"
      ],
      "execution_count": null,
      "outputs": []
    },
    {
      "cell_type": "code",
      "metadata": {
        "id": "zQV1B-AiBVPJ"
      },
      "source": [
        "\n",
        "dataset = pd.read_csv(\"Social_Network_Ads.csv\")"
      ],
      "execution_count": null,
      "outputs": []
    },
    {
      "cell_type": "code",
      "metadata": {
        "id": "zGT6TSGJBir5"
      },
      "source": [
        "X = dataset.iloc[:,2:3].values\n",
        "Y = dataset.iloc[:,4].values"
      ],
      "execution_count": null,
      "outputs": []
    },
    {
      "cell_type": "code",
      "metadata": {
        "id": "u7oR7XA_CxCM",
        "outputId": "4c818d69-8ead-49fa-e6f1-7e14360651e8",
        "colab": {
          "base_uri": "https://localhost:8080/",
          "height": 1000
        }
      },
      "source": [
        "X"
      ],
      "execution_count": null,
      "outputs": [
        {
          "output_type": "execute_result",
          "data": {
            "text/plain": [
              "array([[19],\n",
              "       [35],\n",
              "       [26],\n",
              "       [27],\n",
              "       [19],\n",
              "       [27],\n",
              "       [27],\n",
              "       [32],\n",
              "       [25],\n",
              "       [35],\n",
              "       [26],\n",
              "       [26],\n",
              "       [20],\n",
              "       [32],\n",
              "       [18],\n",
              "       [29],\n",
              "       [47],\n",
              "       [45],\n",
              "       [46],\n",
              "       [48],\n",
              "       [45],\n",
              "       [47],\n",
              "       [48],\n",
              "       [45],\n",
              "       [46],\n",
              "       [47],\n",
              "       [49],\n",
              "       [47],\n",
              "       [29],\n",
              "       [31],\n",
              "       [31],\n",
              "       [27],\n",
              "       [21],\n",
              "       [28],\n",
              "       [27],\n",
              "       [35],\n",
              "       [33],\n",
              "       [30],\n",
              "       [26],\n",
              "       [27],\n",
              "       [27],\n",
              "       [33],\n",
              "       [35],\n",
              "       [30],\n",
              "       [28],\n",
              "       [23],\n",
              "       [25],\n",
              "       [27],\n",
              "       [30],\n",
              "       [31],\n",
              "       [24],\n",
              "       [18],\n",
              "       [29],\n",
              "       [35],\n",
              "       [27],\n",
              "       [24],\n",
              "       [23],\n",
              "       [28],\n",
              "       [22],\n",
              "       [32],\n",
              "       [27],\n",
              "       [25],\n",
              "       [23],\n",
              "       [32],\n",
              "       [59],\n",
              "       [24],\n",
              "       [24],\n",
              "       [23],\n",
              "       [22],\n",
              "       [31],\n",
              "       [25],\n",
              "       [24],\n",
              "       [20],\n",
              "       [33],\n",
              "       [32],\n",
              "       [34],\n",
              "       [18],\n",
              "       [22],\n",
              "       [28],\n",
              "       [26],\n",
              "       [30],\n",
              "       [39],\n",
              "       [20],\n",
              "       [35],\n",
              "       [30],\n",
              "       [31],\n",
              "       [24],\n",
              "       [28],\n",
              "       [26],\n",
              "       [35],\n",
              "       [22],\n",
              "       [30],\n",
              "       [26],\n",
              "       [29],\n",
              "       [29],\n",
              "       [35],\n",
              "       [35],\n",
              "       [28],\n",
              "       [35],\n",
              "       [28],\n",
              "       [27],\n",
              "       [28],\n",
              "       [32],\n",
              "       [33],\n",
              "       [19],\n",
              "       [21],\n",
              "       [26],\n",
              "       [27],\n",
              "       [26],\n",
              "       [38],\n",
              "       [39],\n",
              "       [37],\n",
              "       [38],\n",
              "       [37],\n",
              "       [42],\n",
              "       [40],\n",
              "       [35],\n",
              "       [36],\n",
              "       [40],\n",
              "       [41],\n",
              "       [36],\n",
              "       [37],\n",
              "       [40],\n",
              "       [35],\n",
              "       [41],\n",
              "       [39],\n",
              "       [42],\n",
              "       [26],\n",
              "       [30],\n",
              "       [26],\n",
              "       [31],\n",
              "       [33],\n",
              "       [30],\n",
              "       [21],\n",
              "       [28],\n",
              "       [23],\n",
              "       [20],\n",
              "       [30],\n",
              "       [28],\n",
              "       [19],\n",
              "       [19],\n",
              "       [18],\n",
              "       [35],\n",
              "       [30],\n",
              "       [34],\n",
              "       [24],\n",
              "       [27],\n",
              "       [41],\n",
              "       [29],\n",
              "       [20],\n",
              "       [26],\n",
              "       [41],\n",
              "       [31],\n",
              "       [36],\n",
              "       [40],\n",
              "       [31],\n",
              "       [46],\n",
              "       [29],\n",
              "       [26],\n",
              "       [32],\n",
              "       [32],\n",
              "       [25],\n",
              "       [37],\n",
              "       [35],\n",
              "       [33],\n",
              "       [18],\n",
              "       [22],\n",
              "       [35],\n",
              "       [29],\n",
              "       [29],\n",
              "       [21],\n",
              "       [34],\n",
              "       [26],\n",
              "       [34],\n",
              "       [34],\n",
              "       [23],\n",
              "       [35],\n",
              "       [25],\n",
              "       [24],\n",
              "       [31],\n",
              "       [26],\n",
              "       [31],\n",
              "       [32],\n",
              "       [33],\n",
              "       [33],\n",
              "       [31],\n",
              "       [20],\n",
              "       [33],\n",
              "       [35],\n",
              "       [28],\n",
              "       [24],\n",
              "       [19],\n",
              "       [29],\n",
              "       [19],\n",
              "       [28],\n",
              "       [34],\n",
              "       [30],\n",
              "       [20],\n",
              "       [26],\n",
              "       [35],\n",
              "       [35],\n",
              "       [49],\n",
              "       [39],\n",
              "       [41],\n",
              "       [58],\n",
              "       [47],\n",
              "       [55],\n",
              "       [52],\n",
              "       [40],\n",
              "       [46],\n",
              "       [48],\n",
              "       [52],\n",
              "       [59],\n",
              "       [35],\n",
              "       [47],\n",
              "       [60],\n",
              "       [49],\n",
              "       [40],\n",
              "       [46],\n",
              "       [59],\n",
              "       [41],\n",
              "       [35],\n",
              "       [37],\n",
              "       [60],\n",
              "       [35],\n",
              "       [37],\n",
              "       [36],\n",
              "       [56],\n",
              "       [40],\n",
              "       [42],\n",
              "       [35],\n",
              "       [39],\n",
              "       [40],\n",
              "       [49],\n",
              "       [38],\n",
              "       [46],\n",
              "       [40],\n",
              "       [37],\n",
              "       [46],\n",
              "       [53],\n",
              "       [42],\n",
              "       [38],\n",
              "       [50],\n",
              "       [56],\n",
              "       [41],\n",
              "       [51],\n",
              "       [35],\n",
              "       [57],\n",
              "       [41],\n",
              "       [35],\n",
              "       [44],\n",
              "       [37],\n",
              "       [48],\n",
              "       [37],\n",
              "       [50],\n",
              "       [52],\n",
              "       [41],\n",
              "       [40],\n",
              "       [58],\n",
              "       [45],\n",
              "       [35],\n",
              "       [36],\n",
              "       [55],\n",
              "       [35],\n",
              "       [48],\n",
              "       [42],\n",
              "       [40],\n",
              "       [37],\n",
              "       [47],\n",
              "       [40],\n",
              "       [43],\n",
              "       [59],\n",
              "       [60],\n",
              "       [39],\n",
              "       [57],\n",
              "       [57],\n",
              "       [38],\n",
              "       [49],\n",
              "       [52],\n",
              "       [50],\n",
              "       [59],\n",
              "       [35],\n",
              "       [37],\n",
              "       [52],\n",
              "       [48],\n",
              "       [37],\n",
              "       [37],\n",
              "       [48],\n",
              "       [41],\n",
              "       [37],\n",
              "       [39],\n",
              "       [49],\n",
              "       [55],\n",
              "       [37],\n",
              "       [35],\n",
              "       [36],\n",
              "       [42],\n",
              "       [43],\n",
              "       [45],\n",
              "       [46],\n",
              "       [58],\n",
              "       [48],\n",
              "       [37],\n",
              "       [37],\n",
              "       [40],\n",
              "       [42],\n",
              "       [51],\n",
              "       [47],\n",
              "       [36],\n",
              "       [38],\n",
              "       [42],\n",
              "       [39],\n",
              "       [38],\n",
              "       [49],\n",
              "       [39],\n",
              "       [39],\n",
              "       [54],\n",
              "       [35],\n",
              "       [45],\n",
              "       [36],\n",
              "       [52],\n",
              "       [53],\n",
              "       [41],\n",
              "       [48],\n",
              "       [48],\n",
              "       [41],\n",
              "       [41],\n",
              "       [42],\n",
              "       [36],\n",
              "       [47],\n",
              "       [38],\n",
              "       [48],\n",
              "       [42],\n",
              "       [40],\n",
              "       [57],\n",
              "       [36],\n",
              "       [58],\n",
              "       [35],\n",
              "       [38],\n",
              "       [39],\n",
              "       [53],\n",
              "       [35],\n",
              "       [38],\n",
              "       [47],\n",
              "       [47],\n",
              "       [41],\n",
              "       [53],\n",
              "       [54],\n",
              "       [39],\n",
              "       [38],\n",
              "       [38],\n",
              "       [37],\n",
              "       [42],\n",
              "       [37],\n",
              "       [36],\n",
              "       [60],\n",
              "       [54],\n",
              "       [41],\n",
              "       [40],\n",
              "       [42],\n",
              "       [43],\n",
              "       [53],\n",
              "       [47],\n",
              "       [42],\n",
              "       [42],\n",
              "       [59],\n",
              "       [58],\n",
              "       [46],\n",
              "       [38],\n",
              "       [54],\n",
              "       [60],\n",
              "       [60],\n",
              "       [39],\n",
              "       [59],\n",
              "       [37],\n",
              "       [46],\n",
              "       [46],\n",
              "       [42],\n",
              "       [41],\n",
              "       [58],\n",
              "       [42],\n",
              "       [48],\n",
              "       [44],\n",
              "       [49],\n",
              "       [57],\n",
              "       [56],\n",
              "       [49],\n",
              "       [39],\n",
              "       [47],\n",
              "       [48],\n",
              "       [48],\n",
              "       [47],\n",
              "       [45],\n",
              "       [60],\n",
              "       [39],\n",
              "       [46],\n",
              "       [51],\n",
              "       [50],\n",
              "       [36],\n",
              "       [49]])"
            ]
          },
          "metadata": {
            "tags": []
          },
          "execution_count": 8
        }
      ]
    },
    {
      "cell_type": "code",
      "metadata": {
        "id": "RlQO8gpHBjur"
      },
      "source": [
        "from sklearn.model_selection import train_test_split\n",
        "X_train,X_test,Y_train,Y_test = train_test_split(X,Y,test_size=0.25,random_state=0)"
      ],
      "execution_count": null,
      "outputs": []
    },
    {
      "cell_type": "code",
      "metadata": {
        "id": "0af3dvemCdiz"
      },
      "source": [
        "from sklearn.preprocessing import StandardScaler\n",
        "sc_X = StandardScaler()\n",
        "X_train = sc_X.fit_transform(X_train)\n",
        "X_test = X_test.reshape(-1,1)\n",
        "X_test = sc_X.fit_transform(X_test)"
      ],
      "execution_count": null,
      "outputs": []
    },
    {
      "cell_type": "code",
      "metadata": {
        "id": "dga9xutfDNOs",
        "outputId": "d83ee1b0-09e6-41d5-eebf-9893a8da0c69",
        "colab": {
          "base_uri": "https://localhost:8080/",
          "height": 109
        }
      },
      "source": [
        "from sklearn.linear_model import LogisticRegression\n",
        "classifier = LogisticRegression(random_state=0)\n",
        "classifier.fit(X_train,Y_train)"
      ],
      "execution_count": null,
      "outputs": [
        {
          "output_type": "execute_result",
          "data": {
            "text/plain": [
              "LogisticRegression(C=1.0, class_weight=None, dual=False, fit_intercept=True,\n",
              "                   intercept_scaling=1, l1_ratio=None, max_iter=100,\n",
              "                   multi_class='auto', n_jobs=None, penalty='l2',\n",
              "                   random_state=0, solver='lbfgs', tol=0.0001, verbose=0,\n",
              "                   warm_start=False)"
            ]
          },
          "metadata": {
            "tags": []
          },
          "execution_count": 11
        }
      ]
    },
    {
      "cell_type": "code",
      "metadata": {
        "id": "V7ipWXa5EABb"
      },
      "source": [
        "Y_pred = classifier.predict(X_test)"
      ],
      "execution_count": null,
      "outputs": []
    },
    {
      "cell_type": "code",
      "metadata": {
        "id": "AcxVfsGjEafI",
        "outputId": "795fdf3a-8f2b-4088-8d0e-b64f992740e6",
        "colab": {
          "base_uri": "https://localhost:8080/",
          "height": 109
        }
      },
      "source": [
        "Y_test\n"
      ],
      "execution_count": null,
      "outputs": [
        {
          "output_type": "execute_result",
          "data": {
            "text/plain": [
              "array([0, 0, 0, 0, 0, 0, 0, 1, 0, 0, 0, 0, 0, 0, 0, 0, 0, 0, 1, 0, 0, 1,\n",
              "       0, 1, 0, 1, 0, 0, 0, 0, 0, 1, 1, 0, 0, 0, 0, 0, 0, 1, 0, 0, 0, 0,\n",
              "       1, 0, 0, 1, 0, 1, 1, 0, 0, 0, 1, 1, 0, 0, 1, 0, 0, 1, 0, 1, 0, 1,\n",
              "       0, 0, 0, 0, 1, 0, 0, 1, 0, 0, 0, 0, 1, 1, 1, 0, 0, 0, 1, 1, 0, 1,\n",
              "       1, 0, 0, 1, 0, 0, 0, 1, 0, 1, 1, 1])"
            ]
          },
          "metadata": {
            "tags": []
          },
          "execution_count": 13
        }
      ]
    },
    {
      "cell_type": "code",
      "metadata": {
        "id": "S5IDrnDNEQ7-",
        "outputId": "9ef4096a-f31f-41bc-b852-7bca6102520f",
        "colab": {
          "base_uri": "https://localhost:8080/",
          "height": 109
        }
      },
      "source": [
        "Y_pred\n"
      ],
      "execution_count": null,
      "outputs": [
        {
          "output_type": "execute_result",
          "data": {
            "text/plain": [
              "array([0, 0, 0, 0, 0, 0, 0, 0, 0, 1, 0, 0, 0, 0, 0, 0, 0, 0, 1, 0, 0, 1,\n",
              "       0, 1, 0, 1, 0, 0, 0, 0, 0, 0, 1, 0, 0, 0, 0, 0, 0, 1, 0, 0, 0, 0,\n",
              "       1, 0, 0, 1, 0, 1, 1, 0, 0, 0, 1, 1, 0, 0, 1, 0, 0, 1, 0, 0, 0, 1,\n",
              "       0, 0, 0, 1, 0, 0, 0, 1, 0, 0, 1, 0, 1, 1, 1, 1, 0, 0, 1, 1, 0, 1,\n",
              "       1, 0, 1, 0, 0, 0, 0, 0, 0, 1, 1, 1])"
            ]
          },
          "metadata": {
            "tags": []
          },
          "execution_count": 14
        }
      ]
    },
    {
      "cell_type": "code",
      "metadata": {
        "id": "3EgKjqPoEVGq",
        "outputId": "2f6a799b-0ae7-45a9-ef82-3c3a547c1def",
        "colab": {
          "base_uri": "https://localhost:8080/",
          "height": 54
        }
      },
      "source": [
        "from sklearn.metrics import confusion_matrix\n",
        "cm = confusion_matrix(Y_test,Y_pred)\n",
        "cm"
      ],
      "execution_count": null,
      "outputs": [
        {
          "output_type": "execute_result",
          "data": {
            "text/plain": [
              "array([[63,  5],\n",
              "       [ 6, 26]])"
            ]
          },
          "metadata": {
            "tags": []
          },
          "execution_count": 15
        }
      ]
    },
    {
      "cell_type": "code",
      "metadata": {
        "id": "IucICPGUF78R",
        "colab": {
          "base_uri": "https://localhost:8080/",
          "height": 247
        },
        "outputId": "6e9de6f4-e7e1-4124-fde2-a71dacf0a0f9"
      },
      "source": [
        "from matplotlib.colors import ListedColormap\n",
        "X_set, y_set = X_train, Y_train\n",
        "X1, X2 = np.meshgrid(np.arange(start = X_set[:, 0].min() - 1, stop = X_set[:, 0].max() + 1, step = 0.01),\n",
        "                     np.arange(start = X_set[:, 1].min() - 1, stop = X_set[:, 1].max() + 1, step = 0.01))\n",
        "plt.contourf(X1, X2, classifier.predict(np.array([X1.ravel(), X2.ravel()]).T).reshape(X1.shape),\n",
        "             alpha = 0.75, cmap = ListedColormap(('red', 'green')))\n",
        "plt.xlim(X1.min(), X1.max())\n",
        "plt.ylim(X2.min(), X2.max())\n",
        "for i, j in enumerate(np.unique(y_set)):\n",
        "    plt.scatter(X_set[y_set == j, 0], X_set[y_set == j, 1],\n",
        "                c = ListedColormap(('red', 'green'))(i), label = j)\n",
        "plt.title('Logistic Regression (Training set)')\n",
        "plt.xlabel('Age')\n",
        "plt.ylabel('Estimated Salary')\n",
        "plt.legend()\n",
        "plt.show()\n"
      ],
      "execution_count": null,
      "outputs": [
        {
          "output_type": "error",
          "ename": "IndexError",
          "evalue": "ignored",
          "traceback": [
            "\u001b[0;31m---------------------------------------------------------------------------\u001b[0m",
            "\u001b[0;31mIndexError\u001b[0m                                Traceback (most recent call last)",
            "\u001b[0;32m<ipython-input-17-e63c15c85182>\u001b[0m in \u001b[0;36m<module>\u001b[0;34m()\u001b[0m\n\u001b[1;32m      2\u001b[0m \u001b[0mX_set\u001b[0m\u001b[0;34m,\u001b[0m \u001b[0my_set\u001b[0m \u001b[0;34m=\u001b[0m \u001b[0mX_train\u001b[0m\u001b[0;34m,\u001b[0m \u001b[0mY_train\u001b[0m\u001b[0;34m\u001b[0m\u001b[0;34m\u001b[0m\u001b[0m\n\u001b[1;32m      3\u001b[0m X1, X2 = np.meshgrid(np.arange(start = X_set[:, 0].min() - 1, stop = X_set[:, 0].max() + 1, step = 0.01),\n\u001b[0;32m----> 4\u001b[0;31m                      np.arange(start = X_set[:, 1].min() - 1, stop = X_set[:, 1].max() + 1, step = 0.01))\n\u001b[0m\u001b[1;32m      5\u001b[0m plt.contourf(X1, X2, classifier.predict(np.array([X1.ravel(), X2.ravel()]).T).reshape(X1.shape),\n\u001b[1;32m      6\u001b[0m              alpha = 0.75, cmap = ListedColormap(('red', 'green')))\n",
            "\u001b[0;31mIndexError\u001b[0m: index 1 is out of bounds for axis 1 with size 1"
          ]
        }
      ]
    },
    {
      "cell_type": "code",
      "metadata": {
        "id": "2NynSrj2BILU"
      },
      "source": [
        ""
      ],
      "execution_count": null,
      "outputs": []
    }
  ]
}